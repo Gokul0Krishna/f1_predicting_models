{
 "cells": [
  {
   "cell_type": "code",
   "execution_count": 12,
   "metadata": {},
   "outputs": [],
   "source": [
    "import fastf1\n",
    "import pandas as pd\n",
    "import pandas as pd\n",
    "from sklearn.model_selection import train_test_split\n",
    "import xgboost as xgb\n",
    "from sklearn.metrics import mean_absolute_error"
   ]
  },
  {
   "cell_type": "code",
   "execution_count": null,
   "metadata": {},
   "outputs": [],
   "source": [
    "fastf1.Cache.enable_cache('fastf1_cache')"
   ]
  },
  {
   "cell_type": "code",
   "execution_count": null,
   "metadata": {},
   "outputs": [],
   "source": [
    "qualifying = fastf1.get_session(2024, 'Monaco', 'Q')\n",
    "qualifying.load()\n",
    "qualifying=qualifying.results\n",
    "res=pd.DataFrame()\n",
    "res['driver_name']=qualifying['DriverId']\n",
    "predict_data = pd.DataFrame({'Position_Q': range(1, len(res) + 1)})\n",
    "predict_data=model.predict(predict_data)\n",
    "res['prediction']=predict_data\n",
    "res.sort_values(by=\"prediction\")"
   ]
  },
  {
   "cell_type": "code",
   "execution_count": 27,
   "metadata": {},
   "outputs": [],
   "source": [
    "class Jesus_pls_work:\n",
    "    def __init__(self):\n",
    "        self.finaldf = pd.DataFrame()\n",
    "    \n",
    "    def datagather(self,year,loc):\n",
    "        quali=fastf1.get_session(year,loc,'Q')\n",
    "        race=fastf1.get_session(year,loc,'R')\n",
    "        \n",
    "        quali.load(weather=True)\n",
    "        race.load(weather=True)\n",
    "        \n",
    "        weather=quali.weather_data\n",
    "        qavgtemp=weather['AirTemp'].mean()\n",
    "        qrainfall=weather['Rainfall'].sum()\n",
    "\n",
    "        # laps = quali.laps\n",
    "        # qyellow_flags = laps['YellowFlag'].sum()\n",
    "        # qred_flags = laps['RedFlag'].sum()\n",
    "        \n",
    "        weather=race.weather_data\n",
    "        ravgtemp=weather['AirTemp'].mean()\n",
    "        rrainfall=weather['Rainfall'].sum()\n",
    "        \n",
    "        # laps = race.laps\n",
    "        # ryellow_flags = laps['YellowFlag'].sum()\n",
    "        # rred_flags = laps['RedFlag'].sum()\n",
    "\n",
    "        qresults = quali.results[['DriverNumber', 'Position']]\n",
    "        rresults = race.results[['DriverNumber', 'Position']]\n",
    "\n",
    "        qualidata= pd.DataFrame({\n",
    "            'DriverNumber': qresults['DriverNumber'],\n",
    "            'AvgTemperature': qavgtemp,\n",
    "            'TotalRainfall': qrainfall,\n",
    "            # 'YellowFlags': qyellow_flags,\n",
    "            # 'RedFlags': qred_flags,\n",
    "            'Position': qresults['Position']  \n",
    "        })\n",
    "        \n",
    "        racedata= pd.DataFrame({\n",
    "            'DriverNumber': rresults['DriverNumber'],\n",
    "            'AvgTemperature': ravgtemp,\n",
    "            'TotalRainfall': rrainfall,\n",
    "            # 'YellowFlags': ryellow_flags,\n",
    "            # 'RedFlags': rred_flags,\n",
    "            'Position': rresults['Position']  \n",
    "        })\n",
    "\n",
    "        self.finaldf = qualidata.merge(racedata, on='DriverNumber', suffixes=('_Q', '_R'))\n",
    "\n",
    "    def dataprocessing(self):\n",
    "        df=self.finaldf\n",
    "        self.finaldf['DriverNumber'] = pd.to_numeric(self.finaldf['DriverNumber'])\n",
    "        print(df.head())\n",
    "        y=df['Position_R']\n",
    "        x=df.drop('Position_R',axis=1)\n",
    "        \n",
    "        X_train, X_test, y_train, y_test = train_test_split(x, y, test_size=0.2, random_state=420)\n",
    "        \n",
    "        model = xgb.XGBRegressor(objective='reg:squarederror', learning_rate=0.1, max_depth=5, n_estimators=100)\n",
    "        model.fit(X_train, y_train)\n",
    "\n",
    "        preds = model.predict(X_test)\n",
    "        print(f\"Mean Absolute Error: {mean_absolute_error(y_test, preds)}\")    "
   ]
  },
  {
   "cell_type": "code",
   "execution_count": 28,
   "metadata": {},
   "outputs": [
    {
     "name": "stderr",
     "output_type": "stream",
     "text": [
      "logger      WARNING \tFailed to load schedule from FastF1 backend!\n",
      "req            INFO \tUsing cached data for season_schedule\n",
      "core           INFO \tLoading data for Monaco Grand Prix - Qualifying [v3.5.3]\n",
      "req            INFO \tUsing cached data for session_info\n",
      "req            INFO \tUsing cached data for driver_info\n",
      "req            INFO \tUsing cached data for session_status_data\n",
      "req            INFO \tUsing cached data for track_status_data\n",
      "req            INFO \tUsing cached data for _extended_timing_data\n",
      "req            INFO \tUsing cached data for timing_app_data\n",
      "core           INFO \tProcessing timing data...\n",
      "req            INFO \tUsing cached data for car_data\n",
      "req            INFO \tUsing cached data for position_data\n",
      "req            INFO \tUsing cached data for weather_data\n",
      "req            INFO \tUsing cached data for race_control_messages\n",
      "core           INFO \tFinished loading data for 20 drivers: ['1', '55', '4', '10', '44', '18', '31', '27', '14', '81', '11', '63', '24', '21', '22', '77', '20', '23', '16', '2']\n",
      "core           INFO \tLoading data for Monaco Grand Prix - Race [v3.5.3]\n",
      "req            INFO \tUsing cached data for session_info\n",
      "req            INFO \tUsing cached data for driver_info\n",
      "req            INFO \tUsing cached data for session_status_data\n",
      "req            INFO \tUsing cached data for lap_count\n",
      "req            INFO \tUsing cached data for track_status_data\n",
      "req            INFO \tUsing cached data for _extended_timing_data\n",
      "req            INFO \tUsing cached data for timing_app_data\n",
      "core           INFO \tProcessing timing data...\n",
      "req            INFO \tUsing cached data for car_data\n",
      "req            INFO \tUsing cached data for position_data\n",
      "req            INFO \tUsing cached data for weather_data\n",
      "req            INFO \tUsing cached data for race_control_messages\n",
      "core           INFO \tFinished loading data for 20 drivers: ['1', '14', '31', '44', '63', '16', '10', '55', '4', '81', '77', '21', '24', '23', '22', '11', '27', '2', '20', '18']\n"
     ]
    },
    {
     "name": "stdout",
     "output_type": "stream",
     "text": [
      "   DriverNumber  AvgTemperature_Q  TotalRainfall_Q  Position_Q  \\\n",
      "0             1         25.586047                0         1.0   \n",
      "1            55         25.586047                0         2.0   \n",
      "2             4         25.586047                0         3.0   \n",
      "3            10         25.586047                0         4.0   \n",
      "4            44         25.586047                0         5.0   \n",
      "\n",
      "   AvgTemperature_R  TotalRainfall_R  Position_R  \n",
      "0         25.065909               26         1.0  \n",
      "1         25.065909               26         8.0  \n",
      "2         25.065909               26         9.0  \n",
      "3         25.065909               26         7.0  \n",
      "4         25.065909               26         4.0  \n",
      "Mean Absolute Error: 3.7142768502235413\n"
     ]
    }
   ],
   "source": [
    "obt=Jesus_pls_work()\n",
    "obt.datagather(year=2023,loc='Monaco')\n",
    "obt.dataprocessing()"
   ]
  }
 ],
 "metadata": {
  "kernelspec": {
   "display_name": "py3-TF2.0",
   "language": "python",
   "name": "python3"
  },
  "language_info": {
   "codemirror_mode": {
    "name": "ipython",
    "version": 3
   },
   "file_extension": ".py",
   "mimetype": "text/x-python",
   "name": "python",
   "nbconvert_exporter": "python",
   "pygments_lexer": "ipython3",
   "version": "3.10.16"
  }
 },
 "nbformat": 4,
 "nbformat_minor": 2
}
