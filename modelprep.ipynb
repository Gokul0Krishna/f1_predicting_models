{
 "cells": [
  {
   "cell_type": "code",
   "execution_count": 1,
   "metadata": {},
   "outputs": [],
   "source": [
    "import fastf1\n",
    "import pandas as pd\n"
   ]
  },
  {
   "cell_type": "code",
   "execution_count": 2,
   "metadata": {},
   "outputs": [],
   "source": [
    "fastf1.Cache.enable_cache('fastf1_cache')"
   ]
  },
  {
   "cell_type": "code",
   "execution_count": null,
   "metadata": {},
   "outputs": [],
   "source": [
    "year=2023\n",
    "\n",
    "qualifying = fastf1.get_session(year,'Monaco', 'Q')\n",
    "race = fastf1.get_session(year, 'Monaco', 'R')\n",
    "\n",
    "qualifying.load()\n",
    "race.load()\n",
    "\n",
    "# Merge qualifying and race results\n",
    "combined_results = qualifying.results.merge(race.results, on='DriverNumber', suffixes=('_Q', '_R'))\n",
    "print(combined_results[['DriverNumber', 'Abbreviation_Q', 'Position_Q', 'Position_R']])"
   ]
  },
  {
   "cell_type": "code",
   "execution_count": null,
   "metadata": {},
   "outputs": [],
   "source": [
    "import pandas as pd\n",
    "from sklearn.model_selection import train_test_split\n",
    "import xgboost as xgb\n",
    "from sklearn.metrics import mean_absolute_error\n",
    "\n",
    "# Prepare dataset\n",
    "data = combined_results[['Position_Q', 'Position_R']]  # Add more features as needed\n",
    "X = data[['Position_Q']]\n",
    "y = data['Position_R']\n",
    "print(X)\n",
    "# Train-test split\n",
    "X_train, X_test, y_train, y_test = train_test_split(X, y, test_size=0.2, random_state=420)\n",
    "\n",
    "# Train XGBoost model\n",
    "model = xgb.XGBRegressor(objective='reg:squarederror', learning_rate=0.1, max_depth=5, n_estimators=100)\n",
    "model.fit(X_train, y_train)\n",
    "\n",
    "# Evaluate\n",
    "preds = model.predict(X_test)\n",
    "print(f\"Mean Absolute Error: {mean_absolute_error(y_test, preds)}\")"
   ]
  },
  {
   "cell_type": "code",
   "execution_count": null,
   "metadata": {},
   "outputs": [],
   "source": [
    "qualifying = fastf1.get_session(2024, 'Monaco', 'Q')\n",
    "qualifying.load()\n",
    "qualifying=qualifying.results\n",
    "res=pd.DataFrame()\n",
    "res['driver_name']=qualifying['DriverId']\n",
    "predict_data = pd.DataFrame({'Position_Q': range(1, len(res) + 1)})\n",
    "predict_data=model.predict(predict_data)\n",
    "res['prediction']=predict_data\n",
    "res.sort_values(by=\"prediction\")"
   ]
  },
  {
   "cell_type": "code",
   "execution_count": 15,
   "metadata": {},
   "outputs": [],
   "source": [
    "class Jesus_pls_work:\n",
    "    \n",
    "    def datagather(self,year,loc):\n",
    "        quali=fastf1.get_session(year,loc,'Q')\n",
    "        race=fastf1.get_session(year,loc,'R')\n",
    "        quali.load(weather=True)\n",
    "        race.load(weather=True)\n",
    "        inputdf=quali.results.merge(race.results, on='DriverNumber', suffixes=('_Q', '_R'))\n",
    "        print(inputdf['DriverNumber'])   "
   ]
  },
  {
   "cell_type": "code",
   "execution_count": null,
   "metadata": {},
   "outputs": [],
   "source": [
    "obt=Jesus_pls_work()\n",
    "obt.datagather(year=2023,loc='Monaco')"
   ]
  }
 ],
 "metadata": {
  "kernelspec": {
   "display_name": "py3-TF2.0",
   "language": "python",
   "name": "python3"
  },
  "language_info": {
   "codemirror_mode": {
    "name": "ipython",
    "version": 3
   },
   "file_extension": ".py",
   "mimetype": "text/x-python",
   "name": "python",
   "nbconvert_exporter": "python",
   "pygments_lexer": "ipython3",
   "version": "3.10.16"
  }
 },
 "nbformat": 4,
 "nbformat_minor": 2
}
